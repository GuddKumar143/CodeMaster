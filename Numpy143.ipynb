{
  "cells": [
    {
      "cell_type": "markdown",
      "metadata": {
        "id": "view-in-github",
        "colab_type": "text"
      },
      "source": [
        "<a href=\"https://colab.research.google.com/github/GuddKumar143/CodeMaster/blob/main/Numpy143.ipynb\" target=\"_parent\"><img src=\"https://colab.research.google.com/assets/colab-badge.svg\" alt=\"Open In Colab\"/></a>"
      ]
    },
    {
      "cell_type": "code",
      "execution_count": null,
      "metadata": {
        "colab": {
          "base_uri": "https://localhost:8080/"
        },
        "id": "NrWg1wDUplSq",
        "outputId": "b4267b22-9f77-4461-d827-15b58257176f"
      },
      "outputs": [
        {
          "output_type": "stream",
          "name": "stdout",
          "text": [
            "[1 2 3 4 5 6]\n",
            "<class 'numpy.ndarray'>\n",
            "iD Array: [1 2 3 4 5 6]\n"
          ]
        }
      ],
      "source": [
        "import numpy as np\n",
        "x = np.array([1,2,3,4,5,6])\n",
        "print(x)\n",
        "print(type(x))\n",
        "print(\"iD Array:\", x)"
      ]
    },
    {
      "cell_type": "code",
      "execution_count": null,
      "metadata": {
        "colab": {
          "base_uri": "https://localhost:8080/"
        },
        "id": "hhAIdZbEsrZR",
        "outputId": "6c003e0f-1404-4b24-8d45-4aa51f0cacdc"
      },
      "outputs": [
        {
          "name": "stdout",
          "output_type": "stream",
          "text": [
            "[2, 4, 6, 8, 10]\n",
            "<class 'list'>\n"
          ]
        }
      ],
      "source": [
        "y = [2,4,6,8,10]\n",
        "print(y)\n",
        "print(type(y))"
      ]
    },
    {
      "cell_type": "code",
      "execution_count": null,
      "metadata": {
        "colab": {
          "base_uri": "https://localhost:8080/"
        },
        "id": "eV0uzj3yvMtY",
        "outputId": "f9c0c7dd-b95f-4b6a-bf06-4ab354699ed3"
      },
      "outputs": [
        {
          "name": "stdout",
          "output_type": "stream",
          "text": [
            "2D Array: ([12, 24, 36, 48], [10, 20, 30, 40, 50])\n",
            "<class 'tuple'>\n"
          ]
        }
      ],
      "source": [
        "#2D Array(Matrix)\n",
        "B = ( [12,24,36,48], [10,20,30,40,50])\n",
        "print(\"2D Array:\", B)\n",
        "print(type(B))"
      ]
    },
    {
      "cell_type": "code",
      "execution_count": null,
      "metadata": {
        "colab": {
          "base_uri": "https://localhost:8080/"
        },
        "id": "Ee4tCbWltJnh",
        "outputId": "8a0177e6-1998-4326-f2b8-8c3ebe82ebac"
      },
      "outputs": [
        {
          "name": "stdout",
          "output_type": "stream",
          "text": [
            "771 ns ± 11.4 ns per loop (mean ± std. dev. of 7 runs, 1000000 loops each)\n"
          ]
        }
      ],
      "source": [
        "%timeit [j**4 for j in range(1,9)]"
      ]
    },
    {
      "cell_type": "code",
      "execution_count": null,
      "metadata": {
        "colab": {
          "base_uri": "https://localhost:8080/"
        },
        "id": "Nygdoed-8c7p",
        "outputId": "a1beefd8-b69f-4629-b54d-25e9a14b3a3b"
      },
      "outputs": [
        {
          "name": "stdout",
          "output_type": "stream",
          "text": [
            "1.87 µs ± 523 ns per loop (mean ± std. dev. of 7 runs, 1000000 loops each)\n"
          ]
        }
      ],
      "source": [
        "import numpy as np\n",
        "%timeit np.arange(1,9)**4"
      ]
    },
    {
      "cell_type": "code",
      "execution_count": null,
      "metadata": {
        "colab": {
          "base_uri": "https://localhost:8080/"
        },
        "id": "Sh7fcMM-EJVJ",
        "outputId": "5aa469d6-fe16-4df1-e00e-0fa56a8ffa03"
      },
      "outputs": [
        {
          "name": "stdout",
          "output_type": "stream",
          "text": [
            "[ 2  4  6  8 10 12 14 16]\n",
            "<class 'numpy.ndarray'>\n",
            "1\n"
          ]
        }
      ],
      "source": [
        "import numpy as np\n",
        "R = [2,4,6,8,10]\n",
        "d = np.array([2,4,6,8,10,12,14,16])\n",
        "print(d)\n",
        "print(type(d))\n",
        "print(d.ndim)"
      ]
    },
    {
      "cell_type": "code",
      "execution_count": null,
      "metadata": {
        "id": "Au2JC7sDH8UH"
      },
      "outputs": [],
      "source": [
        "l = []\n",
        "for i in range(1,5):\n",
        "  int_l = int(input(\"Enter : \"))\n",
        "  l.append(int_l)\n",
        "\n",
        "  print(np.array(l))\n",
        "\n",
        "\n"
      ]
    },
    {
      "cell_type": "code",
      "execution_count": null,
      "metadata": {
        "colab": {
          "base_uri": "https://localhost:8080/"
        },
        "id": "6QUVkrvtLLUj",
        "outputId": "3a181f66-a1d9-4815-de92-c8408ab6ec8a"
      },
      "outputs": [
        {
          "name": "stdout",
          "output_type": "stream",
          "text": [
            "total: 45\n",
            "per row: [ 6 15 24]\n",
            "double stickers:\n",
            " [[ 2  4  6]\n",
            " [ 8 10 12]\n",
            " [14 16 18]]\n"
          ]
        }
      ],
      "source": [
        "grid = np.array([\n",
        "    [1,2,3],\n",
        "    [4,5,6],\n",
        "    [7,8,9]\n",
        "])\n",
        "\n",
        "print(\"total:\",grid.sum())\n",
        "print(\"per row:\", grid.sum(axis = 1))\n",
        "print(\"double stickers:\\n\", grid*2)\n"
      ]
    },
    {
      "cell_type": "code",
      "execution_count": null,
      "metadata": {
        "colab": {
          "base_uri": "https://localhost:8080/"
        },
        "id": "1RNmZ8pyiDN7",
        "outputId": "0f21cf24-aaf1-4a7d-c3a0-5d65ed99aa17"
      },
      "outputs": [
        {
          "name": "stdout",
          "output_type": "stream",
          "text": [
            "[[1 2 3 4 5]\n",
            " [5 4 3 2 1]]\n",
            "Here, Ndim Number: 2\n"
          ]
        }
      ],
      "source": [
        "# 2-D array\n",
        "ar2 = np.array([[1,2,3,4,5], [5,4,3,2,1]])\n",
        "print(ar2)\n",
        "print(\"Here, ndim Number:\", ar2.ndim)"
      ]
    },
    {
      "cell_type": "code",
      "execution_count": null,
      "metadata": {
        "colab": {
          "base_uri": "https://localhost:8080/"
        },
        "id": "WAIVr5WXnMj1",
        "outputId": "ae058d17-1338-4c20-ec74-1e19975424ee"
      },
      "outputs": [
        {
          "name": "stdout",
          "output_type": "stream",
          "text": [
            "[[[ 1  2  3  4  5]\n",
            "  [ 6  7  8  9 10]\n",
            "  [11 12 13 14 15]]]\n",
            "ndim Number: 3\n"
          ]
        }
      ],
      "source": [
        "# 3-D Array\n",
        "ar3 = np.array([[[1,2,3,4,5], [6,7,8,9,10],[11,12,13,14,15]]])\n",
        "print(ar3)\n",
        "print(\"ndim Number:\", ar3.ndim )"
      ]
    },
    {
      "cell_type": "code",
      "execution_count": null,
      "metadata": {
        "colab": {
          "base_uri": "https://localhost:8080/"
        },
        "id": "iRumUW2ooCkp",
        "outputId": "17fb6e78-ac1b-4ede-aaa1-142e9be53545"
      },
      "outputs": [
        {
          "name": "stdout",
          "output_type": "stream",
          "text": [
            "[[[[[[[[[[1 3 2 3 4 3 2]]]]]]]]]]\n",
            "Here ndim number: 10\n"
          ]
        }
      ],
      "source": [
        "arn = np.array([1,3,2,3,4,3,2], ndmin = 10)\n",
        "print(arn)\n",
        "print(\"Here ndim number:\", arn.ndim)"
      ]
    },
    {
      "cell_type": "code",
      "execution_count": null,
      "metadata": {
        "colab": {
          "base_uri": "https://localhost:8080/"
        },
        "id": "uGYBOgT3osKZ",
        "outputId": "63d832a5-2b60-4dd2-81ea-89246b480765"
      },
      "outputs": [
        {
          "name": "stdout",
          "output_type": "stream",
          "text": [
            "[0. 0. 0. 0.]\n",
            "[[0. 0. 0. 0.]\n",
            " [0. 0. 0. 0.]\n",
            " [0. 0. 0. 0.]]\n"
          ]
        }
      ],
      "source": [
        "#ZERO\n",
        "import numpy as np\n",
        "ar_zero = np.zeros(4)\n",
        "\n",
        "ar_zero1 = np.zeros(( 3,4))\n",
        "\n",
        "print(ar_zero)\n",
        "\n",
        "print(ar_zero1)"
      ]
    },
    {
      "cell_type": "code",
      "execution_count": null,
      "metadata": {
        "colab": {
          "base_uri": "https://localhost:8080/"
        },
        "id": "WFh7J_tstJNI",
        "outputId": "2ec358e5-89bd-4b13-ab26-082930c3506b"
      },
      "outputs": [
        {
          "name": "stdout",
          "output_type": "stream",
          "text": [
            "[1. 1. 1. 1.]\n"
          ]
        }
      ],
      "source": [
        "#ones\n",
        "ar_one = np.ones(4)\n",
        "print(ar_one)\n",
        "\n"
      ]
    },
    {
      "cell_type": "code",
      "execution_count": null,
      "metadata": {
        "colab": {
          "base_uri": "https://localhost:8080/"
        },
        "id": "-cyUQnm3vIp4",
        "outputId": "ef8cf3de-8869-4bff-bfe6-770e4bc92e2d"
      },
      "outputs": [
        {
          "name": "stdout",
          "output_type": "stream",
          "text": [
            "[1. 1. 1. 1.]\n"
          ]
        }
      ],
      "source": [
        "#Empty\n",
        "ar_em = np.empty(4)\n",
        "print(ar_em)"
      ]
    },
    {
      "cell_type": "code",
      "execution_count": null,
      "metadata": {
        "colab": {
          "base_uri": "https://localhost:8080/"
        },
        "id": "kHYzXOI1-OoU",
        "outputId": "b55b776d-0e1b-470e-f56a-8122cf2be116"
      },
      "outputs": [
        {
          "name": "stdout",
          "output_type": "stream",
          "text": [
            "[0 1 2 3 4 5 6 7 8 9]\n"
          ]
        }
      ],
      "source": [
        "# arrange\n",
        "ar_arange = np.arange(10)\n",
        "print(ar_arange)"
      ]
    },
    {
      "cell_type": "code",
      "execution_count": null,
      "metadata": {
        "colab": {
          "base_uri": "https://localhost:8080/"
        },
        "id": "tefxN2IrypOk",
        "outputId": "6aa7e2be-da70-46da-ab66-9ad2999a4754"
      },
      "outputs": [
        {
          "name": "stdout",
          "output_type": "stream",
          "text": [
            "[[1. 0. 0. 0.]\n",
            " [0. 1. 0. 0.]\n",
            " [0. 0. 1. 0.]\n",
            " [0. 0. 0. 1.]]\n"
          ]
        }
      ],
      "source": [
        "# Daigonal\n",
        "ar_Daigonal = np.eye(4)\n",
        "print(ar_Daigonal)"
      ]
    },
    {
      "cell_type": "code",
      "execution_count": null,
      "metadata": {
        "colab": {
          "base_uri": "https://localhost:8080/"
        },
        "id": "0Syh9PBkzCl8",
        "outputId": "66311686-a304-474a-82c5-6c94387bc435"
      },
      "outputs": [
        {
          "name": "stdout",
          "output_type": "stream",
          "text": [
            "[[1. 0. 0. 0. 0.]\n",
            " [0. 1. 0. 0. 0.]\n",
            " [0. 0. 1. 0. 0.]\n",
            " [0. 0. 0. 1. 0.]]\n"
          ]
        }
      ],
      "source": [
        "\n",
        "ar_Daigonal = np.eye(4,5)\n",
        "print(ar_Daigonal)"
      ]
    },
    {
      "cell_type": "code",
      "execution_count": null,
      "metadata": {
        "colab": {
          "base_uri": "https://localhost:8080/"
        },
        "id": "1l5jkUqA0d8t",
        "outputId": "2d663079-df53-4696-b1e5-2c78f6f8bdc2"
      },
      "outputs": [
        {
          "name": "stdout",
          "output_type": "stream",
          "text": [
            "[ 0.  5. 10. 15. 20.]\n"
          ]
        }
      ],
      "source": [
        "#linespace\n",
        "ar_linesp = np.linspace(0,20, num = 5)\n",
        "print(ar_linesp)\n"
      ]
    },
    {
      "cell_type": "code",
      "execution_count": null,
      "metadata": {
        "colab": {
          "background_save": true,
          "base_uri": "https://localhost:8080/"
        },
        "id": "4EXGlHoW1Vx8",
        "outputId": "c2331929-f7c0-483f-ce0e-c72363a3c50b"
      },
      "outputs": [
        {
          "name": "stdout",
          "output_type": "stream",
          "text": [
            "[0.47980642 0.14515784 0.13362378 0.33979125 0.18704927]\n"
          ]
        }
      ],
      "source": [
        "# Random / rand() function\n",
        "var_r = np.random.rand(5)\n",
        "print(var_r)\n"
      ]
    },
    {
      "cell_type": "code",
      "execution_count": null,
      "metadata": {
        "id": "X_L2rVdU5SMF",
        "colab": {
          "base_uri": "https://localhost:8080/"
        },
        "outputId": "0422b73d-7274-4eba-dd7a-8a810b0a584c"
      },
      "outputs": [
        {
          "output_type": "stream",
          "name": "stdout",
          "text": [
            "[ 1.58838205 -1.87682365  0.58559612  0.42922364  1.40303193]\n"
          ]
        }
      ],
      "source": [
        "#randn()\n",
        "var_r1 = np.random.randn(5)\n",
        "print(var_r1)"
      ]
    },
    {
      "cell_type": "code",
      "source": [
        "#ranf()\n",
        "var_r2 = np.random.ranf(5)\n",
        "print(var_r2)"
      ],
      "metadata": {
        "id": "gn8wxQOD6R8v",
        "colab": {
          "base_uri": "https://localhost:8080/"
        },
        "outputId": "223f325d-9f3a-4b2c-cd2b-da9db9c3a6f4"
      },
      "execution_count": null,
      "outputs": [
        {
          "output_type": "stream",
          "name": "stdout",
          "text": [
            "[0.65447887 0.19161667 0.61549059 0.43448811 0.6416621 ]\n"
          ]
        }
      ]
    },
    {
      "cell_type": "code",
      "source": [
        "#randint()\n",
        "var_r3 = np.random.randint(5, 20, 5)\n",
        "print(var_r3)"
      ],
      "metadata": {
        "colab": {
          "base_uri": "https://localhost:8080/"
        },
        "id": "FW_NY3Ev7pqg",
        "outputId": "3dd94816-1852-446f-8d5b-65517e91b64f"
      },
      "execution_count": null,
      "outputs": [
        {
          "output_type": "stream",
          "name": "stdout",
          "text": [
            "[18 17 18  6 10]\n"
          ]
        }
      ]
    },
    {
      "cell_type": "code",
      "source": [
        "# integer Data Types\n",
        "import numpy as np\n",
        "var_d = np.array([1,2,3,4,5])\n",
        "print(\"Data Type:\", var_d.dtype)"
      ],
      "metadata": {
        "colab": {
          "base_uri": "https://localhost:8080/"
        },
        "id": "eEQhSEoTaZw4",
        "outputId": "a734bb67-836b-463d-d29e-4b93e8265646"
      },
      "execution_count": null,
      "outputs": [
        {
          "output_type": "stream",
          "name": "stdout",
          "text": [
            "Data Type: int64\n"
          ]
        }
      ]
    },
    {
      "cell_type": "code",
      "source": [
        "# float Data types\n",
        "var_d = np.array([1.2,2.3,3.4,4.5,5.6])\n",
        "print(\"Data Type:\", var_d.dtype)"
      ],
      "metadata": {
        "colab": {
          "base_uri": "https://localhost:8080/"
        },
        "id": "dFnF4d75a3Cu",
        "outputId": "6eaa43b9-51b4-4fd3-8ac8-07b5b23d7852"
      },
      "execution_count": null,
      "outputs": [
        {
          "output_type": "stream",
          "name": "stdout",
          "text": [
            "Data Type: float64\n"
          ]
        }
      ]
    },
    {
      "cell_type": "code",
      "source": [
        "# string Data Types\n",
        "var_d = np.array([\"a\",\"b\",\"c\",\"d\"])\n",
        "print(\"Data Type:\", var_d.dtype)"
      ],
      "metadata": {
        "colab": {
          "base_uri": "https://localhost:8080/"
        },
        "id": "4FszhqWqbKtz",
        "outputId": "8e8977e7-2ea0-453b-e765-3ab5dbe02e68"
      },
      "execution_count": null,
      "outputs": [
        {
          "output_type": "stream",
          "name": "stdout",
          "text": [
            "Data Type: <U1\n"
          ]
        }
      ]
    },
    {
      "cell_type": "code",
      "source": [
        "# string data Type + integer Data Type\n",
        "var_d = np.array([\"a\",\"b\",\"c\",\"d\",1,2,3,4])\n",
        "print(\"Data Type:\", var_d.dtype)"
      ],
      "metadata": {
        "colab": {
          "base_uri": "https://localhost:8080/"
        },
        "id": "KMymQdzJbbzV",
        "outputId": "ca9644fa-ffd4-4a8e-a11f-1be7eb05476a"
      },
      "execution_count": null,
      "outputs": [
        {
          "output_type": "stream",
          "name": "stdout",
          "text": [
            "Data Type: <U21\n"
          ]
        }
      ]
    },
    {
      "cell_type": "code",
      "source": [
        "import numpy as np\n",
        "x = np.array([1, 2, 3, 4], dtype = np.int8)\n",
        "print(\"Data Type : \", x.dtype)\n",
        "print(x)\n"
      ],
      "metadata": {
        "colab": {
          "base_uri": "https://localhost:8080/"
        },
        "id": "2qtKH2L5pU8D",
        "outputId": "75dcea0b-6cc6-462c-b61d-2825b94e96c4"
      },
      "execution_count": null,
      "outputs": [
        {
          "output_type": "stream",
          "name": "stdout",
          "text": [
            "Data Type :  int8\n"
          ]
        }
      ]
    },
    {
      "cell_type": "code",
      "source": [
        "x1 = np.array([1, 2, 3, 4], dtype =\"f\")\n",
        "print(\"Data Type : \", x.dtype)\n",
        "print(x1)"
      ],
      "metadata": {
        "colab": {
          "base_uri": "https://localhost:8080/"
        },
        "id": "C50vmwcvqzmt",
        "outputId": "11543233-777f-482c-ca07-15985e1a8ba9"
      },
      "execution_count": null,
      "outputs": [
        {
          "output_type": "stream",
          "name": "stdout",
          "text": [
            "Data Type :  int8\n",
            "[1. 2. 3. 4.]\n"
          ]
        }
      ]
    },
    {
      "cell_type": "code",
      "source": [
        "x2 = np.array([1, 2, 3, 4])\n",
        "new = np.float32(x2)\n",
        "\n",
        "print(\"Data Type : \", x.dtype)\n",
        "print(\"Data Type : \", new.dtype)\n",
        "print(x2)\n",
        "print(new)"
      ],
      "metadata": {
        "colab": {
          "base_uri": "https://localhost:8080/"
        },
        "id": "w5eDJjuar0P0",
        "outputId": "f4f3ce75-453a-4dea-bc29-2a46d34caca3"
      },
      "execution_count": null,
      "outputs": [
        {
          "output_type": "stream",
          "name": "stdout",
          "text": [
            "Data Type :  int8\n",
            "Data Type :  float32\n",
            "[1 2 3 4]\n",
            "[1. 2. 3. 4.]\n"
          ]
        }
      ]
    },
    {
      "cell_type": "code",
      "source": [
        "x3 = np.array([1, 2, 3, 4])\n",
        "new = np.float32(x3)\n",
        "\n",
        "new_one = np.int_(new)\n",
        "\n",
        "print(\"Data Type : \", x3.dtype)\n",
        "print(\"Data Type : \", new.dtype)\n",
        "print(\"Data Typen : \", new_one.dtype)\n",
        "print(x2)\n",
        "print(new)\n",
        "print(new_one)"
      ],
      "metadata": {
        "colab": {
          "base_uri": "https://localhost:8080/"
        },
        "id": "bW9eLv45tKse",
        "outputId": "f046e829-1064-4f84-a17e-0de34a648e04"
      },
      "execution_count": null,
      "outputs": [
        {
          "output_type": "stream",
          "name": "stdout",
          "text": [
            "Data Type :  int64\n",
            "Data Type :  float32\n",
            "Data Typen :  int64\n",
            "[1 2 3 4]\n",
            "[1. 2. 3. 4.]\n",
            "[1 2 3 4]\n"
          ]
        }
      ]
    },
    {
      "cell_type": "code",
      "source": [
        "x4 = np.array([1,2,3,4])\n",
        "\n",
        "new_1 = x4.astype(float)\n",
        "new_2 = x4.astype(str)\n",
        "new_3 = x4.astype(bool)\n",
        "\n",
        "print(x4)\n",
        "print(new_1)\n",
        "print(new_2)\n",
        "print(new_3)"
      ],
      "metadata": {
        "colab": {
          "base_uri": "https://localhost:8080/"
        },
        "id": "ebJ9Alj9uqsm",
        "outputId": "c9515425-51ae-46fe-9d49-4af31fac6ac7"
      },
      "execution_count": null,
      "outputs": [
        {
          "output_type": "stream",
          "name": "stdout",
          "text": [
            "[1 2 3 4]\n",
            "[1. 2. 3. 4.]\n",
            "['1' '2' '3' '4']\n",
            "[ True  True  True  True]\n"
          ]
        }
      ]
    },
    {
      "cell_type": "code",
      "source": [
        "# SHAPE\n",
        "import numpy as np\n",
        "var = np.array([[1,2,3,4,5], [1,2, 3, 4,5]])\n",
        "print(var)\n",
        "print()\n",
        "print(var.shape)\n"
      ],
      "metadata": {
        "colab": {
          "base_uri": "https://localhost:8080/"
        },
        "id": "lo_zD-YvwgMC",
        "outputId": "8917db3f-bdcb-40d4-9828-924eb1efe4ad"
      },
      "execution_count": null,
      "outputs": [
        {
          "output_type": "stream",
          "name": "stdout",
          "text": [
            "[[1 2 3 4 5]\n",
            " [1 2 3 4 5]]\n",
            "\n",
            "(2, 5)\n"
          ]
        }
      ]
    },
    {
      "cell_type": "code",
      "source": [
        "var1 = np.array([1, 2, 3, 4, 5], ndmin = 4)\n",
        "print(var1)\n",
        "print(var1.ndim)\n",
        "print()\n",
        "print(var1.shape)\n"
      ],
      "metadata": {
        "colab": {
          "base_uri": "https://localhost:8080/"
        },
        "id": "gLtQscpBx6Qb",
        "outputId": "a0b52203-2a60-43c4-8ba1-2bc4b92df120"
      },
      "execution_count": null,
      "outputs": [
        {
          "output_type": "stream",
          "name": "stdout",
          "text": [
            "[[[[1 2 3 4 5]]]]\n",
            "4\n",
            "\n",
            "(1, 1, 1, 5)\n"
          ]
        }
      ]
    },
    {
      "cell_type": "code",
      "source": [
        "# 2D Dimension\n",
        "var2 = np.array([1,2, 3, 4, 5,6, 1, 2, 3, ])\n",
        "print(var2)\n",
        "print(var2.ndim)\n",
        "\n",
        "print()\n",
        "\n",
        "x = var2.reshape(3,3)\n",
        "print(x)\n",
        "print(x.ndim)\n"
      ],
      "metadata": {
        "colab": {
          "base_uri": "https://localhost:8080/"
        },
        "id": "d71Z0UD916my",
        "outputId": "127679f3-63e4-4a0e-f784-4439e036ade0"
      },
      "execution_count": null,
      "outputs": [
        {
          "output_type": "stream",
          "name": "stdout",
          "text": [
            "[1 2 3 4 5 6 1 2 3]\n",
            "1\n",
            "\n",
            "[[1 2 3]\n",
            " [4 5 6]\n",
            " [1 2 3]]\n",
            "2\n"
          ]
        }
      ]
    },
    {
      "cell_type": "code",
      "source": [
        "# 3D Dimension\n",
        "var3 = np.array([1,2, 3, 4, 5, 6, 7, 8, 9, 10 ,11, 12])\n",
        "print(var3)\n",
        "print(var3.ndim)\n",
        "\n",
        "print()\n",
        "\n",
        "x1 = var3.reshape(2,3,2)\n",
        "print(x1)\n",
        "print(x1.ndim)"
      ],
      "metadata": {
        "colab": {
          "base_uri": "https://localhost:8080/"
        },
        "id": "-AQ4jUd129pj",
        "outputId": "f5a41494-2556-4f5d-b3ba-94f92b744d08"
      },
      "execution_count": null,
      "outputs": [
        {
          "output_type": "stream",
          "name": "stdout",
          "text": [
            "[ 1  2  3  4  5  6  7  8  9 10 11 12]\n",
            "1\n",
            "\n",
            "[[[ 1  2]\n",
            "  [ 3  4]\n",
            "  [ 5  6]]\n",
            "\n",
            " [[ 7  8]\n",
            "  [ 9 10]\n",
            "  [11 12]]]\n",
            "3\n"
          ]
        }
      ]
    },
    {
      "cell_type": "code",
      "source": [
        "#Arithmeetic Operation\n",
        "import numpy as np\n",
        "var = np.array([1,2,3,4])\n",
        "\n",
        "varadd = var + 3\n",
        "print(varadd)"
      ],
      "metadata": {
        "id": "Gr-QlcTg3ZVq",
        "colab": {
          "base_uri": "https://localhost:8080/"
        },
        "outputId": "262e92b1-e900-4b62-fbfc-fa7ab196c4c8"
      },
      "execution_count": null,
      "outputs": [
        {
          "output_type": "stream",
          "name": "stdout",
          "text": [
            "[4 5 6 7]\n"
          ]
        }
      ]
    },
    {
      "cell_type": "code",
      "source": [
        "var1 = np.array([1,2,3,4])\n",
        "var2 = np.array([1,2,3,4])\n",
        "\n",
        "varadd1 = var1 + var2\n",
        "\n",
        "print(varadd1)"
      ],
      "metadata": {
        "colab": {
          "base_uri": "https://localhost:8080/"
        },
        "id": "QrW4hXp5dXEB",
        "outputId": "6da1e469-d8e4-4211-cb91-defdad241706"
      },
      "execution_count": null,
      "outputs": [
        {
          "output_type": "stream",
          "name": "stdout",
          "text": [
            "[2 4 6 8]\n"
          ]
        }
      ]
    },
    {
      "cell_type": "code",
      "source": [
        "#Arithmeetic Operation\n",
        "import numpy as np\n",
        "var = np.array([1,2,3,4])\n",
        "\n",
        "varadd = var - 3\n",
        "print(varadd)"
      ],
      "metadata": {
        "colab": {
          "base_uri": "https://localhost:8080/"
        },
        "id": "QK5xnX-Id60L",
        "outputId": "a7bb2185-b8ca-4c32-b48d-f83324edbefc"
      },
      "execution_count": null,
      "outputs": [
        {
          "output_type": "stream",
          "name": "stdout",
          "text": [
            "[-2 -1  0  1]\n"
          ]
        }
      ]
    },
    {
      "cell_type": "code",
      "source": [
        "#Arithmeetic Operation\n",
        "import numpy as np\n",
        "var = np.array([1,2,3,4])\n",
        "\n",
        "varadd = var * 3\n",
        "print(varadd)"
      ],
      "metadata": {
        "colab": {
          "base_uri": "https://localhost:8080/"
        },
        "id": "qG8CKJwUd_Yr",
        "outputId": "51f58514-c565-4d4d-d8e0-2ed841189c13"
      },
      "execution_count": null,
      "outputs": [
        {
          "output_type": "stream",
          "name": "stdout",
          "text": [
            "[ 3  6  9 12]\n"
          ]
        }
      ]
    },
    {
      "cell_type": "code",
      "source": [
        "#Arithmeetic Operation\n",
        "import numpy as np\n",
        "var = np.array([1,2,3,4])\n",
        "\n",
        "varadd = var / 3\n",
        "print(varadd)"
      ],
      "metadata": {
        "colab": {
          "base_uri": "https://localhost:8080/"
        },
        "id": "zvkBvrZPeC-z",
        "outputId": "4d9e5332-7715-4506-e80f-7221a580e71f"
      },
      "execution_count": null,
      "outputs": [
        {
          "output_type": "stream",
          "name": "stdout",
          "text": [
            "[0.33333333 0.66666667 1.         1.33333333]\n"
          ]
        }
      ]
    },
    {
      "cell_type": "code",
      "source": [
        "#Arithmeetic Operation\n",
        "import numpy as np\n",
        "var = np.array([1,2,3,4])\n",
        "\n",
        "varadd = var % 3\n",
        "print(varadd)"
      ],
      "metadata": {
        "colab": {
          "base_uri": "https://localhost:8080/"
        },
        "id": "ZMc29fs9eJol",
        "outputId": "41602886-345a-48e1-ece6-bbf1cb89c411"
      },
      "execution_count": null,
      "outputs": [
        {
          "output_type": "stream",
          "name": "stdout",
          "text": [
            "[1 2 0 1]\n"
          ]
        }
      ]
    },
    {
      "cell_type": "code",
      "source": [
        "# 2D Array\n",
        "var1 = np.array([[1,2,3, 4],[1,2,3,4]])\n",
        "var2 = np.array([[5, 6, 7, 8], [9, 10, 11, 12]])\n",
        "\n",
        "varrad = np.add(var1, var2)\n",
        "print(varrad)\n"
      ],
      "metadata": {
        "colab": {
          "base_uri": "https://localhost:8080/"
        },
        "id": "v9FGLMH5gOZu",
        "outputId": "e471377e-e3f9-4082-bf9a-8d4ddada7a5a"
      },
      "execution_count": null,
      "outputs": [
        {
          "output_type": "stream",
          "name": "stdout",
          "text": [
            "[[ 6  8 10 12]\n",
            " [10 12 14 16]]\n"
          ]
        }
      ]
    },
    {
      "cell_type": "code",
      "source": [
        "var1 = np.array([[1,2,3, 4],[1,2,3,4]])\n",
        "var2 = np.array([[5, 6, 7, 8], [9, 10, 11, 12]])\n",
        "\n",
        "print(var1)\n",
        "print()\n",
        "print(var2)\n",
        "print()\n",
        "\n",
        "varrad = np.add(var1, var2)\n",
        "print(varrad)"
      ],
      "metadata": {
        "colab": {
          "base_uri": "https://localhost:8080/"
        },
        "id": "YJ0daz5_hrsa",
        "outputId": "492b2479-cfa2-41a7-aea8-fc8c89327e6a"
      },
      "execution_count": null,
      "outputs": [
        {
          "output_type": "stream",
          "name": "stdout",
          "text": [
            "[[1 2 3 4]\n",
            " [1 2 3 4]]\n",
            "\n",
            "[[ 5  6  7  8]\n",
            " [ 9 10 11 12]]\n",
            "\n",
            "[[ 6  8 10 12]\n",
            " [10 12 14 16]]\n"
          ]
        }
      ]
    },
    {
      "cell_type": "code",
      "source": [
        "import numpy as np\n",
        "var0 = np.array([1,2,3,4])\n",
        "\n",
        "varadd = np.reciprocal(var0)\n",
        "\n",
        "print(varadd)"
      ],
      "metadata": {
        "colab": {
          "base_uri": "https://localhost:8080/"
        },
        "id": "KFp2GmvYii1-",
        "outputId": "c338d4a8-d84b-40e0-f698-678212b62430"
      },
      "execution_count": null,
      "outputs": [
        {
          "output_type": "stream",
          "name": "stdout",
          "text": [
            "[1 0 0 0]\n"
          ]
        }
      ]
    },
    {
      "cell_type": "code",
      "source": [
        "from google.colab import drive\n",
        "drive.mount('/content/drive')"
      ],
      "metadata": {
        "id": "gSHn3gc_cnDF"
      },
      "execution_count": null,
      "outputs": []
    },
    {
      "cell_type": "code",
      "source": [
        "import numpy as np\n",
        "var = np.array([1,2,3,4,5,6])\n",
        "\n",
        "print(\"min : \", np.min(var), np.argmin(var))\n",
        "print(\"max : \", np.max(var),np.argmax(var))\n",
        "print(\"sqrt : \", np.sqrt(var))\n"
      ],
      "metadata": {
        "colab": {
          "base_uri": "https://localhost:8080/"
        },
        "id": "5xdNfsicmD3N",
        "outputId": "4223599d-4053-4298-a083-be7cf432dba6"
      },
      "execution_count": null,
      "outputs": [
        {
          "output_type": "stream",
          "name": "stdout",
          "text": [
            "min :  1 0\n",
            "max :  6 5\n",
            "sqrt :  [1.         1.41421356 1.73205081 2.         2.23606798 2.44948974]\n"
          ]
        }
      ]
    },
    {
      "cell_type": "code",
      "source": [
        "var4 = np.array([[2, 1, 3], [9, 5, 6]])\n",
        "print(np.min(var4, axis=1))\n",
        "print(np.min(var4, axis=0))"
      ],
      "metadata": {
        "colab": {
          "base_uri": "https://localhost:8080/"
        },
        "id": "8BN2Kebxn6ZP",
        "outputId": "eb0ef490-f611-44c1-ac04-e303d53d2d81"
      },
      "execution_count": null,
      "outputs": [
        {
          "output_type": "stream",
          "name": "stdout",
          "text": [
            "[1 5]\n",
            "[2 1 3]\n"
          ]
        }
      ]
    },
    {
      "cell_type": "code",
      "source": [
        "# sin and cos ....values\n",
        "import numpy as np\n",
        "\n",
        "var2 = np.array([1, 2, 3])\n",
        "var3 = np.array([30, 45, 60, 90])\n",
        "\n",
        "print(np.sin(var2))\n",
        "print(np.cos(var2))\n",
        "print(np.tan(var2))\n",
        "print(np.cumsum(var2))\n",
        "\n",
        "print(np.sin(var3))\n",
        "print(np.cos(var3))\n",
        "print(np.tan(var3))\n",
        "print(np.cumsum(var3))"
      ],
      "metadata": {
        "id": "XvebFwvJqSJB",
        "colab": {
          "base_uri": "https://localhost:8080/"
        },
        "outputId": "83cdbbd7-55f6-4c82-c00f-0e496e9a7915"
      },
      "execution_count": null,
      "outputs": [
        {
          "output_type": "stream",
          "name": "stdout",
          "text": [
            "[0.84147098 0.90929743 0.14112001]\n",
            "[ 0.54030231 -0.41614684 -0.9899925 ]\n",
            "[ 1.55740772 -2.18503986 -0.14254654]\n",
            "[1 3 6]\n",
            "[-0.98803162  0.85090352 -0.30481062  0.89399666]\n",
            "[ 0.15425145  0.52532199 -0.95241298 -0.44807362]\n",
            "[-6.4053312   1.61977519  0.32004039 -1.99520041]\n",
            "[ 30  75 135 225]\n"
          ]
        }
      ]
    },
    {
      "cell_type": "code",
      "source": [
        "# broadcaast in numpy\n",
        "import numpy as np\n",
        "var1 = np.array([1, 2, 3])\n",
        "print(var1.shape)\n",
        "print()\n",
        "print(var1)\n",
        "print()\n",
        "\n",
        "var2 = np.array([[1], [2], [3]])\n",
        "print(var2.shape)\n",
        "print()\n",
        "print(var2)\n",
        "print()\n",
        "\n",
        "print(var1 + var2)\n",
        "\n"
      ],
      "metadata": {
        "colab": {
          "base_uri": "https://localhost:8080/"
        },
        "id": "5-3oLFnMh5Hd",
        "outputId": "66bbb700-3401-436c-adaa-7a391982b0b7"
      },
      "execution_count": null,
      "outputs": [
        {
          "output_type": "stream",
          "name": "stdout",
          "text": [
            "(3,)\n",
            "\n",
            "[1 2 3]\n",
            "\n",
            "(3, 1)\n",
            "\n",
            "[[1]\n",
            " [2]\n",
            " [3]]\n",
            "\n",
            "[[2 3 4]\n",
            " [3 4 5]\n",
            " [4 5 6]]\n"
          ]
        }
      ]
    },
    {
      "cell_type": "code",
      "source": [
        "# Broadcat in numpy\n",
        "x = np.array([[1], [2]])\n",
        "print(x.shape)\n",
        "\n",
        "y = np.array([[1,2,3], [1,2,3]])\n",
        "print(y.shape)\n",
        "\n",
        "print(x * y)"
      ],
      "metadata": {
        "colab": {
          "base_uri": "https://localhost:8080/"
        },
        "id": "uzdIel8lkhpZ",
        "outputId": "41e6d69c-f01d-495b-cc52-c81000c5effe"
      },
      "execution_count": null,
      "outputs": [
        {
          "output_type": "stream",
          "name": "stdout",
          "text": [
            "(2, 1)\n",
            "(2, 3)\n",
            "[[1 2 3]\n",
            " [2 4 6]]\n"
          ]
        }
      ]
    },
    {
      "cell_type": "code",
      "source": [
        "# inddexing in numpy\n",
        "import numpy as np\n",
        "var1 = np.array([1, 2, 3, 4, 5, 6])\n",
        "\n",
        "print(var1[0])\n",
        "print(var1[-4])"
      ],
      "metadata": {
        "colab": {
          "base_uri": "https://localhost:8080/"
        },
        "id": "M4bT0nXPnArY",
        "outputId": "ba4cf5dd-89b5-45db-8b9e-e2b053772873"
      },
      "execution_count": null,
      "outputs": [
        {
          "output_type": "stream",
          "name": "stdout",
          "text": [
            "1\n",
            "3\n"
          ]
        }
      ]
    },
    {
      "cell_type": "code",
      "source": [
        "# indexing in numpy\n",
        "var2 = np.array([[2, 3, 4, 5, 6], [ 7, 8, 9, 10, 11]])\n",
        "\n",
        "print(var2)\n",
        "print(var2.ndim)\n",
        "print()\n",
        "print(var2[0, 2])"
      ],
      "metadata": {
        "colab": {
          "base_uri": "https://localhost:8080/"
        },
        "id": "qPVO-HwCnlNZ",
        "outputId": "caea06d4-0a6d-430e-a31a-56ca9c9e8258"
      },
      "execution_count": null,
      "outputs": [
        {
          "output_type": "stream",
          "name": "stdout",
          "text": [
            "[[ 2  3  4  5  6]\n",
            " [ 7  8  9 10 11]]\n",
            "2\n",
            "\n",
            "4\n"
          ]
        }
      ]
    },
    {
      "cell_type": "code",
      "source": [
        "# indexing in numpy\n",
        "# 3D Array\n",
        "var3 = np.array([[[1,2,3], [4,5,6], [7,8,9]]])\n",
        "\n",
        "print(var3)\n",
        "print(var3.ndim)\n",
        "print()\n",
        "print(var3[0, 1, 1])"
      ],
      "metadata": {
        "colab": {
          "base_uri": "https://localhost:8080/"
        },
        "id": "JV8j82HGpn7w",
        "outputId": "0df8fe98-96b7-41b5-a211-f3ab3ccd0789"
      },
      "execution_count": null,
      "outputs": [
        {
          "output_type": "stream",
          "name": "stdout",
          "text": [
            "[[[1 2 3]\n",
            "  [4 5 6]\n",
            "  [7 8 9]]]\n",
            "3\n",
            "\n",
            "5\n"
          ]
        }
      ]
    },
    {
      "cell_type": "code",
      "source": [
        "# sclicing in numpy\n",
        "import numpy as np\n",
        "var = np.array([1,2,3,4,5,6,7])\n",
        "#   0,1,2,3,4,5,6\n",
        "\n",
        "print(var)\n",
        "print()\n",
        "print(\"2 to 5 : \", var[1:5])\n",
        "print(\" 2 to End :\", var[1:])\n",
        "print(\"start to as :\", var[:5])\n",
        "print(\"stop : \", var[::2])\n",
        "print(\"stop : \", var[1:6:2])\n",
        "\n"
      ],
      "metadata": {
        "colab": {
          "base_uri": "https://localhost:8080/"
        },
        "id": "J6SsPHBkrAtz",
        "outputId": "d5de3ddf-1d04-41ce-c30c-17d84cf10b22"
      },
      "execution_count": null,
      "outputs": [
        {
          "output_type": "stream",
          "name": "stdout",
          "text": [
            "[1 2 3 4 5 6 7]\n",
            "\n",
            "2 to 5 :  [2 3 4 5]\n",
            " 2 to End : [2 3 4 5 6 7]\n",
            "start to as : [1 2 3 4 5]\n",
            "stop :  [1 3 5 7]\n",
            "stop :  [2 4 6]\n"
          ]
        }
      ]
    },
    {
      "cell_type": "code",
      "source": [
        "var1 = np.array([[[1,2,3,4,5], [9,8,7,6,5],[11, 12, 13, 14,15]]])\n",
        "print(var1)\n",
        "print()\n",
        "\n",
        "print(\" 8 to 5 : \", var1[0, 1, 1:])"
      ],
      "metadata": {
        "id": "XRfjEmqmUTJH",
        "colab": {
          "base_uri": "https://localhost:8080/"
        },
        "outputId": "14051c87-f09b-4654-f788-8fcff4817099"
      },
      "execution_count": null,
      "outputs": [
        {
          "output_type": "stream",
          "name": "stdout",
          "text": [
            "[[[ 1  2  3  4  5]\n",
            "  [ 9  8  7  6  5]\n",
            "  [11 12 13 14 15]]]\n",
            "\n",
            " 8 to 5 :  [8 7 6 5]\n"
          ]
        }
      ]
    },
    {
      "cell_type": "code",
      "source": [
        "#iteration\n",
        "var = np.array([9, 8, 7, 6, 5,4])\n",
        "print(var)\n",
        "print()\n",
        "for i in var:\n",
        "  print(i)"
      ],
      "metadata": {
        "colab": {
          "base_uri": "https://localhost:8080/"
        },
        "id": "D2-iJr1ueE0e",
        "outputId": "a01dd20b-dbc0-45df-cb26-9bd2a31c131f"
      },
      "execution_count": null,
      "outputs": [
        {
          "output_type": "stream",
          "name": "stdout",
          "text": [
            "[9 8 7 6 5 4]\n",
            "\n",
            "9\n",
            "8\n",
            "7\n",
            "6\n",
            "5\n",
            "4\n"
          ]
        }
      ]
    },
    {
      "cell_type": "code",
      "source": [
        "var1 = np.array([[1, 2, 3, 4], [1, 2, 3, 4]])\n",
        "print(var1)\n",
        "print()\n",
        "for j in var1:\n",
        "  print(j)"
      ],
      "metadata": {
        "colab": {
          "base_uri": "https://localhost:8080/"
        },
        "id": "rRuCPA7EgBaz",
        "outputId": "880333d3-6494-4d47-b475-514292cf5f23"
      },
      "execution_count": null,
      "outputs": [
        {
          "output_type": "stream",
          "name": "stdout",
          "text": [
            "[[1 2 3 4]\n",
            " [1 2 3 4]]\n",
            "\n",
            "[1 2 3 4]\n",
            "[1 2 3 4]\n"
          ]
        }
      ]
    },
    {
      "cell_type": "code",
      "source": [
        "var1 = np.array([[1, 2, 3, 4], [1, 2, 3, 4]])\n",
        "print(var1)\n",
        "print()\n",
        "\n",
        "for j in var1:\n",
        "  print(j)\n",
        "\n",
        "for k in var1:\n",
        "  for element in k:\n",
        "    print(element)"
      ],
      "metadata": {
        "colab": {
          "base_uri": "https://localhost:8080/"
        },
        "id": "0MIaut8NgbP4",
        "outputId": "4ed75e49-bf2e-477f-cb87-0a4cbe9f85a2"
      },
      "execution_count": null,
      "outputs": [
        {
          "output_type": "stream",
          "name": "stdout",
          "text": [
            "[[1 2 3 4]\n",
            " [1 2 3 4]]\n",
            "\n",
            "[1 2 3 4]\n",
            "[1 2 3 4]\n",
            "1\n",
            "2\n",
            "3\n",
            "4\n",
            "1\n",
            "2\n",
            "3\n",
            "4\n"
          ]
        }
      ]
    },
    {
      "cell_type": "code",
      "source": [
        "var3 = np.array([[[1, 2,3,4], [1, 2, 3, 4]]])\n",
        "print(var3)\n",
        "print(var3.ndim)\n",
        "print()\n",
        "\n",
        "for i in var3:\n",
        "  for j in i:\n",
        "    for k in j:\n",
        "      print(k)"
      ],
      "metadata": {
        "colab": {
          "base_uri": "https://localhost:8080/"
        },
        "id": "j2WWHqIykDCH",
        "outputId": "5f8f8e59-96aa-48f7-f8cd-4467be1409d5"
      },
      "execution_count": null,
      "outputs": [
        {
          "output_type": "stream",
          "name": "stdout",
          "text": [
            "[[[1 2 3 4]\n",
            "  [1 2 3 4]]]\n",
            "3\n",
            "\n",
            "1\n",
            "2\n",
            "3\n",
            "4\n",
            "1\n",
            "2\n",
            "3\n",
            "4\n"
          ]
        }
      ]
    },
    {
      "cell_type": "code",
      "source": [
        "var3 = np.array([[[1, 2,3,4], [1, 2, 3, 4]]])\n",
        "print(var3)\n",
        "print(var3.ndim)\n",
        "print()\n",
        "\n",
        "for i in np.nditer(var3, flags = ['buffered'], op_dtypes = [(\"S\")]):\n",
        "  print(i)"
      ],
      "metadata": {
        "colab": {
          "base_uri": "https://localhost:8080/"
        },
        "id": "k8jcqlNIlg_G",
        "outputId": "b050e9a0-808a-4b02-92e8-7bcace90b26a"
      },
      "execution_count": null,
      "outputs": [
        {
          "output_type": "stream",
          "name": "stdout",
          "text": [
            "[[[1 2 3 4]\n",
            "  [1 2 3 4]]]\n",
            "3\n",
            "\n",
            "np.bytes_(b'1')\n",
            "np.bytes_(b'2')\n",
            "np.bytes_(b'3')\n",
            "np.bytes_(b'4')\n",
            "np.bytes_(b'1')\n",
            "np.bytes_(b'2')\n",
            "np.bytes_(b'3')\n",
            "np.bytes_(b'4')\n"
          ]
        }
      ]
    },
    {
      "cell_type": "code",
      "source": [
        "var3 = np.array([[[9, 8, 7, 6], [1, 2, 3, 4]]])\n",
        "print(var3)\n",
        "print(var3.ndim)\n",
        "print()\n",
        "\n",
        "for i,d in np.ndenumerate(var3):\n",
        "  print(i,d)"
      ],
      "metadata": {
        "id": "JIOsYKu6oqZc",
        "colab": {
          "base_uri": "https://localhost:8080/"
        },
        "outputId": "94db333d-5ae2-404f-962f-abccd9b3a7ce"
      },
      "execution_count": null,
      "outputs": [
        {
          "output_type": "stream",
          "name": "stdout",
          "text": [
            "[[[9 8 7 6]\n",
            "  [1 2 3 4]]]\n",
            "3\n",
            "\n",
            "(0, 0, 0) 9\n",
            "(0, 0, 1) 8\n",
            "(0, 0, 2) 7\n",
            "(0, 0, 3) 6\n",
            "(0, 1, 0) 1\n",
            "(0, 1, 1) 2\n",
            "(0, 1, 2) 3\n",
            "(0, 1, 3) 4\n"
          ]
        }
      ]
    },
    {
      "cell_type": "code",
      "source": [
        "# copy vs view\n",
        "import numpy as np\n",
        "var = np.array([1,2,3,4])\n",
        "co = var.copy()\n",
        "vi = var.view()\n",
        "\n",
        "print(\"var : \",var)\n",
        "print(\" copy : \",co)\n",
        "print(\" view :\", vi)\n"
      ],
      "metadata": {
        "colab": {
          "base_uri": "https://localhost:8080/"
        },
        "id": "T8haGgnPBBv9",
        "outputId": "6959aec2-86a4-443c-8302-7e778c2d11ba"
      },
      "execution_count": null,
      "outputs": [
        {
          "output_type": "stream",
          "name": "stdout",
          "text": [
            "var :  [1 2 3 4]\n",
            " copy :  [1 2 3 4]\n",
            " view : [1 2 3 4]\n"
          ]
        }
      ]
    },
    {
      "cell_type": "code",
      "source": [
        "# join Array\n",
        "import numpy as np\n",
        "var1 = np.array([1, 2, 3, 4])\n",
        "var2 = np.array([9, 8, 7, 6])\n",
        "\n",
        "ar = np.concatenate((var1, var2))\n",
        "print(ar)"
      ],
      "metadata": {
        "colab": {
          "base_uri": "https://localhost:8080/"
        },
        "id": "nXO4GDO4E8NX",
        "outputId": "284daa27-79c0-404d-fab0-2956d299371e"
      },
      "execution_count": null,
      "outputs": [
        {
          "output_type": "stream",
          "name": "stdout",
          "text": [
            "[1 2 3 4 9 8 7 6]\n"
          ]
        }
      ]
    },
    {
      "cell_type": "code",
      "source": [
        "var = np.array([[1, 2], [3, 4]])\n",
        "var1 = np.array([[9, 8], [7, 6]])\n",
        "print(var)"
      ],
      "metadata": {
        "colab": {
          "base_uri": "https://localhost:8080/"
        },
        "id": "lK4GH0CbO-M9",
        "outputId": "6a2f1dae-5b75-478f-da9c-a0524f9f6037"
      },
      "execution_count": null,
      "outputs": [
        {
          "output_type": "stream",
          "name": "stdout",
          "text": [
            "[[1 2]\n",
            " [3 4]]\n"
          ]
        }
      ]
    },
    {
      "cell_type": "code",
      "source": [
        "var = np.array([[1, 2], [3, 4]])\n",
        "var1 = np.array([[9, 8], [7, 6]])\n",
        "\n",
        "ar_new = np.concatenate((var, var1), axis = 0)\n",
        "print(var)\n",
        "print()\n",
        "print(var1)\n",
        "print()\n",
        "print(ar_new)"
      ],
      "metadata": {
        "colab": {
          "base_uri": "https://localhost:8080/"
        },
        "id": "EK1rbpWDPhut",
        "outputId": "8542373d-6101-49c8-be8a-387094464a3a"
      },
      "execution_count": null,
      "outputs": [
        {
          "output_type": "stream",
          "name": "stdout",
          "text": [
            "[[1 2]\n",
            " [3 4]]\n",
            "\n",
            "[[9 8]\n",
            " [7 6]]\n",
            "\n",
            "[[1 2]\n",
            " [3 4]\n",
            " [9 8]\n",
            " [7 6]]\n"
          ]
        }
      ]
    },
    {
      "cell_type": "code",
      "source": [
        "var_1 = np.array([1, 2, 3, 4])\n",
        "var_2 = np.array([9, 8, 7, 6])\n",
        "\n",
        "a_new = np.stack((var_1, var_2), axis = 1)\n",
        "a_new1 = np.hstack((var_1, var_2)) # row\n",
        "a_new2 = np.vstack((var_1, var_2))  # column\n",
        "a_new3 = np.dstack((var_1, var_2))  # height\n",
        "a_new4 = np.stack((var_1, var_2), axis = 0)   #  Axis Zero\n",
        "\n",
        "print(a_new)\n",
        "print()\n",
        "print(\" Row : \", a_new1)\n",
        "print()\n",
        "print(\" column : \", a_new2)\n",
        "print()\n",
        "print(\" Height: \", a_new3)\n",
        "print()\n",
        "print(\" Axis Zero : \", a_new4)\n"
      ],
      "metadata": {
        "colab": {
          "base_uri": "https://localhost:8080/"
        },
        "id": "JX_I2ijQQmrq",
        "outputId": "b456d998-07cd-4e0c-bf01-cc8f126cf8b0"
      },
      "execution_count": null,
      "outputs": [
        {
          "output_type": "stream",
          "name": "stdout",
          "text": [
            "[[1 9]\n",
            " [2 8]\n",
            " [3 7]\n",
            " [4 6]]\n",
            "\n",
            " Row :  [1 2 3 4 9 8 7 6]\n",
            "\n",
            " column :  [[1 2 3 4]\n",
            " [9 8 7 6]]\n",
            "\n",
            " Height:  [[[1 9]\n",
            "  [2 8]\n",
            "  [3 7]\n",
            "  [4 6]]]\n",
            "\n",
            " Axis Zero :  [[1 2 3 4]\n",
            " [9 8 7 6]]\n"
          ]
        }
      ]
    },
    {
      "cell_type": "code",
      "source": [
        "# Split Array\n",
        "import numpy as np\n",
        "var = np.array([1, 2, 3, 4, 5, 6])\n",
        "print(var)\n",
        "print()\n",
        "\n",
        "sp = np.array_split(var, 3)\n",
        "print(sp)\n",
        "print()\n",
        "print(sp[0])\n",
        "print(sp[1])\n",
        "print(sp[2])\n"
      ],
      "metadata": {
        "colab": {
          "base_uri": "https://localhost:8080/"
        },
        "id": "7tsWM--5gkK4",
        "outputId": "02aa7c49-e58d-400f-da68-39b0faf6951e"
      },
      "execution_count": null,
      "outputs": [
        {
          "output_type": "stream",
          "name": "stdout",
          "text": [
            "[1 2 3 4 5 6]\n",
            "\n",
            "[array([1, 2]), array([3, 4]), array([5, 6])]\n",
            "\n",
            "[1 2]\n",
            "[3 4]\n",
            "[5 6]\n"
          ]
        }
      ]
    },
    {
      "cell_type": "code",
      "source": [
        "var4 = np.array([[1, 2], [3, 4],[5, 6]])\n",
        "print(var4)\n",
        "print()\n",
        "ar4 = np.array_split(var4, 3)\n",
        "ar5 = np.array_split(var4, 3, axis = 1)\n",
        "\n",
        "print(ar4)\n",
        "print()\n",
        "print(ar5)\n"
      ],
      "metadata": {
        "colab": {
          "base_uri": "https://localhost:8080/"
        },
        "id": "_xO0w7JuVVF8",
        "outputId": "07847a1f-2a06-49fe-e5ba-378c991d7fe5"
      },
      "execution_count": null,
      "outputs": [
        {
          "output_type": "stream",
          "name": "stdout",
          "text": [
            "[[1 2]\n",
            " [3 4]\n",
            " [5 6]]\n",
            "\n",
            "[array([[1, 2]]), array([[3, 4]]), array([[5, 6]])]\n",
            "\n",
            "[array([[1],\n",
            "       [3],\n",
            "       [5]]), array([[2],\n",
            "       [4],\n",
            "       [6]]), array([], shape=(3, 0), dtype=int64)]\n"
          ]
        }
      ]
    },
    {
      "cell_type": "code",
      "source": [
        "# search, in numpy\n",
        "import numpy as np\n",
        "\n",
        "var5 = np.array([1, 2, 3, 4, 2, 6, 7, 2 , 3, 5, 9 ,1 , 5, 6 ,4])\n",
        "\n",
        "x = np.where(var5 == 2)\n",
        "x1 = np.where((var5 %2) == 0)\n",
        "print(x)\n",
        "print()\n",
        "print(x1)\n"
      ],
      "metadata": {
        "colab": {
          "base_uri": "https://localhost:8080/"
        },
        "id": "nlw5BKAyX9fH",
        "outputId": "546bf50c-ade4-4940-b6de-262054add923"
      },
      "execution_count": null,
      "outputs": [
        {
          "output_type": "stream",
          "name": "stdout",
          "text": [
            "(array([1, 4, 7]),)\n",
            "\n",
            "(array([ 1,  3,  4,  5,  7, 13, 14]),)\n"
          ]
        }
      ]
    },
    {
      "cell_type": "code",
      "source": [
        "var6 = np.array([1, 2, 3, 4, 2, 6, 7, 2 , 3, 5, 9 ,1 , 5, 6 ,4])\n",
        "\n",
        "\n",
        "x6 = np.searchsorted(var6,  [5,6,7] , side = \"right\")\n",
        "print(x6)"
      ],
      "metadata": {
        "colab": {
          "base_uri": "https://localhost:8080/"
        },
        "id": "rQEt9UE1aOgE",
        "outputId": "2441484a-dcaa-4d5d-86e4-52b373df9143"
      },
      "execution_count": null,
      "outputs": [
        {
          "output_type": "stream",
          "name": "stdout",
          "text": [
            "[13 15 15]\n"
          ]
        }
      ]
    },
    {
      "cell_type": "code",
      "source": [
        "#sort Array\n",
        "var_6 = np.array([[4, 2, 3], [1, 12, 5], [22, 52,6]])\n",
        "print(np.sort(var_6))\n",
        "\n"
      ],
      "metadata": {
        "colab": {
          "base_uri": "https://localhost:8080/"
        },
        "id": "e6rv_0Ff3f6l",
        "outputId": "75b84255-f7ec-4bba-d692-db0e2e25ea8f"
      },
      "execution_count": null,
      "outputs": [
        {
          "output_type": "stream",
          "name": "stdout",
          "text": [
            "[[ 2  3  4]\n",
            " [ 1  5 12]\n",
            " [ 6 22 52]]\n"
          ]
        }
      ]
    },
    {
      "cell_type": "code",
      "source": [
        "var_7 = np.array([\"h\", \"G\", \"u\",\"D\",\"a\",\"b\",\"p\",\"Z\",\"d\"])\n",
        "print(np.sort(var_7))"
      ],
      "metadata": {
        "colab": {
          "base_uri": "https://localhost:8080/"
        },
        "id": "iRIq_7i44U1B",
        "outputId": "a3c71b4a-8e9a-48e1-e156-c94df9c64836"
      },
      "execution_count": null,
      "outputs": [
        {
          "output_type": "stream",
          "name": "stdout",
          "text": [
            "['D' 'G' 'Z' 'a' 'b' 'd' 'h' 'p' 'u']\n"
          ]
        }
      ]
    },
    {
      "cell_type": "code",
      "source": [
        "#Filter Array\n",
        "var_8 = np.array([\"a\", \"s\",\"d\",\"f\"])\n",
        "f = [True, False, True, False]\n",
        "\n",
        "new_a = var_8[f]\n",
        "print(new_a)\n",
        "print(type(new_a))"
      ],
      "metadata": {
        "colab": {
          "base_uri": "https://localhost:8080/"
        },
        "id": "VxubDwC85hhn",
        "outputId": "73c7226d-0864-4441-b158-6a43728bd036"
      },
      "execution_count": null,
      "outputs": [
        {
          "output_type": "stream",
          "name": "stdout",
          "text": [
            "['a' 'd']\n",
            "<class 'numpy.ndarray'>\n"
          ]
        }
      ]
    },
    {
      "cell_type": "code",
      "source": [
        "# shuffle\n",
        "import numpy as np\n",
        "var_9 = np.array([1, 2, 3, 4, 5])\n",
        "np.random.shuffle(var_9)\n",
        "print(var_9)"
      ],
      "metadata": {
        "colab": {
          "base_uri": "https://localhost:8080/"
        },
        "id": "OZmzF5gV6qVN",
        "outputId": "256a50b7-32cb-45b4-fc82-1c2faad4bee4"
      },
      "execution_count": null,
      "outputs": [
        {
          "output_type": "stream",
          "name": "stdout",
          "text": [
            "[5 4 2 1 3]\n"
          ]
        }
      ]
    },
    {
      "cell_type": "code",
      "source": [
        "# Unique function\n",
        "var_10 = np.array([1,2, 3,4, 2,5, 2, 6, 2, 7])\n",
        "x = np.unique(var_10,return_index=True, return_counts=True)\n",
        "print(x)"
      ],
      "metadata": {
        "colab": {
          "base_uri": "https://localhost:8080/"
        },
        "id": "p-4BR3Zh7Sn6",
        "outputId": "708f79fe-6083-4344-edd4-50aff0839ef8"
      },
      "execution_count": null,
      "outputs": [
        {
          "output_type": "stream",
          "name": "stdout",
          "text": [
            "(array([1, 2, 3, 4, 5, 6, 7]), array([0, 1, 2, 3, 5, 7, 9]), array([1, 4, 1, 1, 1, 1, 1]))\n"
          ]
        }
      ]
    },
    {
      "cell_type": "code",
      "source": [
        "# Resize function\n",
        "var_11 = np.array([1, 2, 3, 4, 5, 6, 7, 8])\n",
        "y = np.resize(var_11, (3,2))\n",
        "print(y)"
      ],
      "metadata": {
        "colab": {
          "base_uri": "https://localhost:8080/"
        },
        "id": "qG6jhJ_-7_GA",
        "outputId": "dbb4d973-2168-4989-9ba5-5007b20eb5d1"
      },
      "execution_count": null,
      "outputs": [
        {
          "output_type": "stream",
          "name": "stdout",
          "text": [
            "[[1 2]\n",
            " [3 4]\n",
            " [5 6]]\n"
          ]
        }
      ]
    },
    {
      "cell_type": "code",
      "source": [
        "#Flatten function\n",
        "var_11 = np.array([1, 2, 3, 4, 5, 6, 7, 8])\n",
        "y = np.resize(var_11, (3,2))\n",
        "print(y)\n",
        "print()\n",
        "print(\"Flatten : \", y.flatten(order = \"F\"))\n",
        "print(\"Ravel :\",np.ravel(y, order =\"F\"))\n",
        "print(\"Ravel ,, order of A:\",np.ravel(y, order =\"A\"))\n"
      ],
      "metadata": {
        "colab": {
          "base_uri": "https://localhost:8080/"
        },
        "id": "s-l2KCFP9b7i",
        "outputId": "5cc63e13-b891-4ca2-dd75-f5ca19e6bb08"
      },
      "execution_count": null,
      "outputs": [
        {
          "output_type": "stream",
          "name": "stdout",
          "text": [
            "[[1 2]\n",
            " [3 4]\n",
            " [5 6]]\n",
            "\n",
            "Flatten :  [1 3 5 2 4 6]\n",
            "Ravel : [1 3 5 2 4 6]\n",
            "Ravel ,, order of A: [1 2 3 4 5 6]\n"
          ]
        }
      ]
    },
    {
      "cell_type": "code",
      "source": [
        "# inserst function\n",
        "import numpy as np\n",
        "var = np.array([1, 2, 3, 4,5])\n",
        "print(var)\n",
        "print()\n",
        "v = np.insert(var, 2, 30)\n",
        "print(v)\n",
        "print()\n",
        "v2 = np.insert(var, (2,4), 6.5)\n",
        "print(v2)\n"
      ],
      "metadata": {
        "colab": {
          "base_uri": "https://localhost:8080/"
        },
        "id": "Q73mKSMjDvTG",
        "outputId": "a92e7adf-4a43-4d06-a60a-6c2e327b20ef"
      },
      "execution_count": null,
      "outputs": [
        {
          "output_type": "stream",
          "name": "stdout",
          "text": [
            "[1 2 3 4 5]\n",
            "\n",
            "[ 1  2 30  3  4  5]\n",
            "\n",
            "[1 2 6 3 4 6 5]\n"
          ]
        }
      ]
    },
    {
      "cell_type": "code",
      "source": [
        "var3 = np.array([[1,2,3],[1,2,3]])\n",
        "v3 = np.insert(var3, 2, 6, axis = 0)\n",
        "print(v3)\n",
        "print()\n",
        "v4 = np.insert(var3, 2, 6, axis = 1)\n",
        "print(v4)"
      ],
      "metadata": {
        "colab": {
          "base_uri": "https://localhost:8080/"
        },
        "id": "39LOVRuuGCd7",
        "outputId": "6a7b2bae-249a-4582-bb52-10b3446ece7e"
      },
      "execution_count": null,
      "outputs": [
        {
          "output_type": "stream",
          "name": "stdout",
          "text": [
            "[[1 2 3]\n",
            " [1 2 3]\n",
            " [6 6 6]]\n",
            "\n",
            "[[1 2 6 3]\n",
            " [1 2 6 3]]\n"
          ]
        }
      ]
    },
    {
      "cell_type": "code",
      "source": [
        "var1 = np.array([[1,2,3],[1,2,3]])\n",
        "v1 =np.append(var1, [[45, 44, 23]],axis = 0)\n",
        "print(v1)"
      ],
      "metadata": {
        "colab": {
          "base_uri": "https://localhost:8080/"
        },
        "id": "p1TiBo--Gmuv",
        "outputId": "a9926e4b-5cdc-4c3e-cae9-dadc2b2171d1"
      },
      "execution_count": null,
      "outputs": [
        {
          "output_type": "stream",
          "name": "stdout",
          "text": [
            "[[ 1  2  3]\n",
            " [ 1  2  3]\n",
            " [45 44 23]]\n"
          ]
        }
      ]
    },
    {
      "cell_type": "code",
      "source": [
        "#Delete function\n",
        "import numpy as np\n",
        "var2 = np.array([1, 2, 3, 4,5])\n",
        "print(var2)\n",
        "print()\n",
        "d = np.delete(var2, 2)\n",
        "print(d)\n",
        "print()\n",
        "\n"
      ],
      "metadata": {
        "colab": {
          "base_uri": "https://localhost:8080/"
        },
        "id": "jNX9gbLmJPwb",
        "outputId": "36735544-2cee-423c-843e-4fa2ad8304df"
      },
      "execution_count": null,
      "outputs": [
        {
          "output_type": "stream",
          "name": "stdout",
          "text": [
            "[1 2 3 4 5]\n",
            "\n",
            "[1 2 4 5]\n",
            "\n"
          ]
        }
      ]
    },
    {
      "cell_type": "code",
      "source": [
        "# Matrix in Numpy Arrays\n",
        "import numpy as np\n",
        "var = np.matrix([[1,2,3],[1,2,3]])\n",
        "print(var)\n",
        "print(type(var))\n"
      ],
      "metadata": {
        "colab": {
          "base_uri": "https://localhost:8080/"
        },
        "id": "aG_NSE0uKjzi",
        "outputId": "27b45844-7da4-417f-8e9e-cf413f8c9fd7"
      },
      "execution_count": null,
      "outputs": [
        {
          "output_type": "stream",
          "name": "stdout",
          "text": [
            "[[1 2 3]\n",
            " [1 2 3]]\n",
            "<class 'numpy.matrix'>\n"
          ]
        }
      ]
    },
    {
      "cell_type": "code",
      "source": [
        "# Arithmetic Operation\n",
        "import numpy as np\n",
        "var = np.array([[1,2,3],[1,2,3]])\n",
        "var1 = np.array([[10,20,30], [40,50,60]])\n",
        "print(var)\n",
        "print(type(var))\n",
        "print()\n",
        "print(var1)\n",
        "print(type(var1))\n",
        "print()\n",
        "print(\"Addition : \", var + var1)\n",
        "print()\n",
        "print(\"Subtraction : \", var - var1)\n",
        "print()\n",
        "print(\"Element-wise Multiplication :\", var * var1) # Element-wise multiplication with arrays\n",
        "print()\n",
        "print(\"Division (element-wise) : \", var / var1)\n",
        "print()\n",
        "\n",
        "# Standard matrix multiplication - This will cause a ValueError with these shapes\n",
        "# print(\"Standard Matrix Multiplication : \", var @ var1)\n",
        "# print(\"Standard Matrix Multiplication (using dot) : \", np.dot(var, var1))"
      ],
      "metadata": {
        "colab": {
          "base_uri": "https://localhost:8080/"
        },
        "id": "LeUCBQRYLlhV",
        "outputId": "7faef173-2d7c-466a-887c-440e684cb34e"
      },
      "execution_count": null,
      "outputs": [
        {
          "output_type": "stream",
          "name": "stdout",
          "text": [
            "[[1 2 3]\n",
            " [1 2 3]]\n",
            "<class 'numpy.ndarray'>\n",
            "\n",
            "[[10 20 30]\n",
            " [40 50 60]]\n",
            "<class 'numpy.ndarray'>\n",
            "\n",
            "Addition :  [[11 22 33]\n",
            " [41 52 63]]\n",
            "\n",
            "Subtraction :  [[ -9 -18 -27]\n",
            " [-39 -48 -57]]\n",
            "\n",
            "Element-wise Multiplication : [[ 10  40  90]\n",
            " [ 40 100 180]]\n",
            "\n",
            "Division (element-wise) :  [[0.1   0.1   0.1  ]\n",
            " [0.025 0.04  0.05 ]]\n",
            "\n"
          ]
        }
      ]
    },
    {
      "cell_type": "code",
      "source": [
        "var1= np.array([[1,2,3],[1,2,3]])\n",
        "print(var1)\n",
        "print(type(var1))"
      ],
      "metadata": {
        "colab": {
          "base_uri": "https://localhost:8080/"
        },
        "id": "9Y6EUgbDLQKy",
        "outputId": "c4326b04-e6a3-44d0-8336-81f9da5eb634"
      },
      "execution_count": null,
      "outputs": [
        {
          "output_type": "stream",
          "name": "stdout",
          "text": [
            "[[1 2 3]\n",
            " [1 2 3]]\n",
            "<class 'numpy.ndarray'>\n"
          ]
        }
      ]
    },
    {
      "cell_type": "code",
      "source": [],
      "metadata": {
        "id": "xpjbIZidNavW"
      },
      "execution_count": null,
      "outputs": []
    },
    {
      "cell_type": "code",
      "source": [
        "# Matrix Functions :- Transpose\n",
        "import numpy as np\n",
        "var1 = np.matrix([[1,2,3],[1,2,3]])\n",
        "print(var1)\n",
        "print()\n",
        "print(np.transpose(var1))\n",
        "print()\n",
        "print(var1.T)\n",
        "print()\n",
        "print(np.swapaxes(var1, 0,1))"
      ],
      "metadata": {
        "colab": {
          "base_uri": "https://localhost:8080/"
        },
        "id": "54UFVr0BPaU0",
        "outputId": "ad33f0f3-f476-460d-dec4-e3aeb0417a69"
      },
      "execution_count": null,
      "outputs": [
        {
          "output_type": "stream",
          "name": "stdout",
          "text": [
            "[[1 2 3]\n",
            " [1 2 3]]\n",
            "\n",
            "[[1 1]\n",
            " [2 2]\n",
            " [3 3]]\n",
            "\n",
            "[[1 1]\n",
            " [2 2]\n",
            " [3 3]]\n",
            "\n",
            "[[1 1]\n",
            " [2 2]\n",
            " [3 3]]\n"
          ]
        }
      ]
    },
    {
      "cell_type": "code",
      "source": [
        "var2 = np.array([[1,2,3],[1,2,3]])\n",
        "print(var2)\n",
        "print()\n",
        "print(np.swapaxes(var2, 0,1))"
      ],
      "metadata": {
        "colab": {
          "base_uri": "https://localhost:8080/"
        },
        "id": "xXqDncK2Qi1Z",
        "outputId": "e2a2f6b2-4376-441c-8b22-656363eb7611"
      },
      "execution_count": null,
      "outputs": [
        {
          "output_type": "stream",
          "name": "stdout",
          "text": [
            "[[1 2 3]\n",
            " [1 2 3]]\n",
            "\n",
            "[[1 1]\n",
            " [2 2]\n",
            " [3 3]]\n"
          ]
        }
      ]
    },
    {
      "cell_type": "code",
      "source": [
        "# inverse in matrix\n",
        "var3 = np.matrix([[1,2],[3,4]])\n",
        "print(var3)\n",
        "print()\n",
        "print(np.linalg.inv(var3))\n"
      ],
      "metadata": {
        "colab": {
          "base_uri": "https://localhost:8080/"
        },
        "id": "ptEtfvRjRMDp",
        "outputId": "32d14c46-65f4-4b87-805b-470e38ff5a7e"
      },
      "execution_count": null,
      "outputs": [
        {
          "output_type": "stream",
          "name": "stdout",
          "text": [
            "[[1 2]\n",
            " [3 4]]\n",
            "\n",
            "[[-2.   1. ]\n",
            " [ 1.5 -0.5]]\n"
          ]
        }
      ]
    },
    {
      "cell_type": "code",
      "source": [
        "var4 = np.matrix([[1,2],[3,4]])\n",
        "print(var4)\n",
        "print()\n",
        "print(np.linalg.matrix_power(var4, 2))\n",
        "print()\n",
        "print(np.linalg.matrix_power(var4, 0))\n",
        "print()\n",
        "print(np.linalg.matrix_power(var4, -2))\n",
        "print()"
      ],
      "metadata": {
        "colab": {
          "base_uri": "https://localhost:8080/"
        },
        "id": "8o8_1xtMTPv_",
        "outputId": "68b9183a-4b4e-4912-d8fc-9b2f080d9883"
      },
      "execution_count": null,
      "outputs": [
        {
          "output_type": "stream",
          "name": "stdout",
          "text": [
            "[[1 2]\n",
            " [3 4]]\n",
            "\n",
            "[[ 7 10]\n",
            " [15 22]]\n",
            "\n",
            "[[1 0]\n",
            " [0 1]]\n",
            "\n",
            "[[ 5.5  -2.5 ]\n",
            " [-3.75  1.75]]\n",
            "\n"
          ]
        }
      ]
    },
    {
      "cell_type": "code",
      "source": [
        "# determinant\n",
        "var5 = np.matrix([[1,2,3],[3,4,5],[6,7,8]])\n",
        "print(var5)\n",
        "print()\n",
        "print(np.linalg.det(var5))\n",
        "print()"
      ],
      "metadata": {
        "colab": {
          "base_uri": "https://localhost:8080/"
        },
        "id": "wljJPETSTPs3",
        "outputId": "2bbde663-1728-460f-cf0e-8f0f002e9264"
      },
      "execution_count": null,
      "outputs": [
        {
          "output_type": "stream",
          "name": "stdout",
          "text": [
            "[[1 2 3]\n",
            " [3 4 5]\n",
            " [6 7 8]]\n",
            "\n",
            "0.0\n",
            "\n"
          ]
        }
      ]
    }
  ],
  "metadata": {
    "colab": {
      "provenance": [],
      "gpuType": "V28",
      "authorship_tag": "ABX9TyMPIxEaUdoINa1+NunYQNc+",
      "include_colab_link": true
    },
    "kernelspec": {
      "display_name": "Python 3",
      "name": "python3"
    },
    "language_info": {
      "name": "python"
    },
    "accelerator": "TPU"
  },
  "nbformat": 4,
  "nbformat_minor": 0
}